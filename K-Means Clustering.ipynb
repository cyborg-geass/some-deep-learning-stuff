{
 "cells": [
  {
   "cell_type": "code",
   "execution_count": 4,
   "id": "bdb891ee",
   "metadata": {},
   "outputs": [],
   "source": [
    "import numpy as np\n",
    "import matplotlib.pyplot as plt\n",
    "import seaborn as sns; sns.set()\n",
    "from sklearn.datasets._samples_generator import make_blobs\n",
    "bloobs = make_blobs()"
   ]
  },
  {
   "cell_type": "code",
   "execution_count": 5,
   "id": "d81ddfea",
   "metadata": {},
   "outputs": [
    {
     "data": {
      "text/plain": [
       "(array([[-0.29175778, -0.73200958],\n",
       "        [ 3.99383461, -4.07771882],\n",
       "        [-1.333159  , -1.05166775],\n",
       "        [ 4.75108768, -4.02343506],\n",
       "        [ 0.92108739, -2.94910505],\n",
       "        [ 0.47043382, -1.54509807],\n",
       "        [-1.60207556, -1.99126742],\n",
       "        [ 5.94726078, -3.85919392],\n",
       "        [ 0.42026733, -0.23087812],\n",
       "        [ 4.48731596, -5.00649625],\n",
       "        [ 5.51837708, -4.77479152],\n",
       "        [ 5.46295336, -5.16829157],\n",
       "        [ 0.2306751 , -2.81786167],\n",
       "        [ 0.60586051,  0.34768541],\n",
       "        [ 5.08209263, -3.4759803 ],\n",
       "        [ 2.05076832, -1.34190632],\n",
       "        [ 0.259565  ,  0.1523794 ],\n",
       "        [-2.1298836 , -0.39716247],\n",
       "        [ 1.66397709, -2.34931726],\n",
       "        [ 5.70007779, -5.94496913],\n",
       "        [ 0.71835172,  0.79988772],\n",
       "        [ 1.06121324, -2.40011897],\n",
       "        [ 5.77862015, -3.80515231],\n",
       "        [ 1.18242397, -0.46671348],\n",
       "        [ 0.89782695,  1.04039404],\n",
       "        [ 1.9291781 , -2.94027522],\n",
       "        [ 5.68547455, -4.23908298],\n",
       "        [ 3.98106359, -5.05178823],\n",
       "        [ 5.49616947, -4.49802869],\n",
       "        [ 0.19670067, -0.53385309],\n",
       "        [-0.92550132, -2.1250663 ],\n",
       "        [ 1.09004089, -3.68524765],\n",
       "        [ 1.84608962, -0.09311495],\n",
       "        [-0.92947478, -1.42403444],\n",
       "        [-1.80855781, -1.60603878],\n",
       "        [ 2.30224293, -2.67638752],\n",
       "        [ 0.64748181, -0.71028535],\n",
       "        [ 6.80722233, -3.98676335],\n",
       "        [-0.98168137, -1.69458164],\n",
       "        [ 1.50048132, -3.00279015],\n",
       "        [ 0.17777226, -2.41491847],\n",
       "        [ 0.72602475, -2.29639826],\n",
       "        [-0.06180212,  0.92111891],\n",
       "        [-1.42818344, -2.17602868],\n",
       "        [ 0.76972769, -2.02942524],\n",
       "        [ 3.04632793, -2.22000768],\n",
       "        [ 0.24138262,  0.19478268],\n",
       "        [ 0.0750358 , -0.61496898],\n",
       "        [ 6.02643376, -4.34375492],\n",
       "        [ 4.33764682, -5.44231162],\n",
       "        [ 0.15260792, -4.14159062],\n",
       "        [-1.06777679, -3.9143851 ],\n",
       "        [ 0.9488987 , -2.46785759],\n",
       "        [-1.33029829, -0.52366651],\n",
       "        [ 0.46828547, -3.12937889],\n",
       "        [-0.6590743 , -1.62963702],\n",
       "        [ 5.46549488, -5.24786634],\n",
       "        [ 7.05234924, -5.87129335],\n",
       "        [-1.56979111, -1.14462598],\n",
       "        [ 1.82597852, -2.65670299],\n",
       "        [ 0.26629316, -2.01557778],\n",
       "        [ 0.50094045, -0.69308832],\n",
       "        [-0.63452746, -1.87396385],\n",
       "        [-1.52870077, -0.68926548],\n",
       "        [ 0.43300133, -2.35092747],\n",
       "        [-1.37227181, -1.56398119],\n",
       "        [ 1.13981029, -1.93922426],\n",
       "        [ 0.40786499, -1.27961832],\n",
       "        [ 5.66141261, -4.40716351],\n",
       "        [-0.39093846, -1.94121023],\n",
       "        [-0.7702942 , -3.49032527],\n",
       "        [-0.33739502, -1.89248492],\n",
       "        [-1.22445669, -1.71817499],\n",
       "        [ 0.34156385, -0.92993112],\n",
       "        [ 0.97704984, -3.31513041],\n",
       "        [ 5.04971196, -6.12740819],\n",
       "        [-0.23472542, -2.51666454],\n",
       "        [ 5.99791497, -4.60897074],\n",
       "        [ 4.62785471, -3.20871201],\n",
       "        [ 5.0252837 , -4.45989142],\n",
       "        [-1.12080022, -2.92535923],\n",
       "        [ 3.71503829, -5.09821462],\n",
       "        [ 5.01180045, -4.58931885],\n",
       "        [ 3.77961697, -3.60935651],\n",
       "        [ 4.81721184, -6.56191509],\n",
       "        [ 6.13380466, -6.22850933],\n",
       "        [ 5.07481568, -3.7899668 ],\n",
       "        [ 3.48265355, -6.18175443],\n",
       "        [ 4.29420349, -5.26596749],\n",
       "        [ 0.16952244, -0.99512845],\n",
       "        [ 0.12373169, -3.35453412],\n",
       "        [-0.67739421, -2.07915121],\n",
       "        [ 4.65669879, -4.55013726],\n",
       "        [ 5.64860602, -5.70976806],\n",
       "        [-1.39812656, -2.84549956],\n",
       "        [ 5.94818886, -3.85362124],\n",
       "        [-0.08410468, -0.40962214],\n",
       "        [ 3.86318304, -3.31356268],\n",
       "        [-0.87588823, -2.02100498],\n",
       "        [ 0.47491711, -3.04196928]]),\n",
       " array([2, 0, 2, 0, 1, 1, 1, 0, 2, 0, 0, 0, 1, 1, 0, 2, 2, 2, 1, 0, 2, 1,\n",
       "        0, 2, 2, 1, 0, 0, 0, 2, 2, 1, 2, 2, 1, 1, 2, 0, 1, 1, 1, 1, 2, 2,\n",
       "        1, 1, 2, 2, 0, 0, 1, 1, 1, 2, 1, 2, 0, 0, 2, 1, 2, 2, 1, 2, 2, 2,\n",
       "        1, 1, 0, 1, 1, 2, 1, 2, 1, 0, 2, 0, 0, 0, 1, 0, 0, 0, 0, 0, 0, 0,\n",
       "        0, 2, 1, 2, 0, 0, 1, 0, 2, 0, 2, 1]))"
      ]
     },
     "execution_count": 5,
     "metadata": {},
     "output_type": "execute_result"
    }
   ],
   "source": [
    "bloobs"
   ]
  },
  {
   "cell_type": "code",
   "execution_count": 2,
   "id": "73dd57ee",
   "metadata": {},
   "outputs": [
    {
     "data": {
      "text/plain": [
       "<matplotlib.collections.PathCollection at 0x22b2791fb80>"
      ]
     },
     "execution_count": 2,
     "metadata": {},
     "output_type": "execute_result"
    },
    {
     "data": {
      "image/png": "[encoded data removed]",
      "text/plain": [
       "<Figure size 432x288 with 1 Axes>"
      ]
     },
     "metadata": {
      "needs_background": "light"
     },
     "output_type": "display_data"
    }
   ],
   "source": [
    "X_train, y = make_blobs(n_samples=300, centers=4, cluster_std=0.6, random_state=0)\n",
    "plt.scatter(X_train[:,0], X_train[:,1],alpha=0.9)"
   ]
  },
  {
   "cell_type": "code",
   "execution_count": 3,
   "id": "8794e791",
   "metadata": {},
   "outputs": [],
   "source": [
    "from sklearn.cluster import KMeans\n",
    "kmeans = KMeans(n_clusters=4)\n",
    "kmeans.fit(X_train)\n",
    "y_preds = kmeans.predict(X_train)"
   ]
  },
  {
   "cell_type": "code",
   "execution_count": 6,
   "id": "a7b27237",
   "metadata": {},
   "outputs": [
    {
     "data": {
      "text/plain": [
       "array([1, 2, 0, 2, 1, 1, 3, 0, 2, 2, 3, 2, 0, 2, 1, 0, 0, 1, 3, 3, 1, 1,\n",
       "       0, 3, 3, 0, 1, 0, 3, 0, 2, 2, 0, 2, 2, 2, 2, 2, 3, 1, 0, 3, 0, 0,\n",
       "       3, 3, 2, 3, 2, 1, 3, 1, 2, 1, 1, 3, 2, 3, 2, 1, 2, 0, 2, 3, 3, 3,\n",
       "       2, 1, 2, 3, 0, 3, 2, 3, 3, 2, 3, 0, 1, 2, 1, 0, 1, 1, 2, 0, 1, 0,\n",
       "       2, 2, 0, 1, 2, 3, 3, 0, 1, 1, 0, 3, 2, 1, 2, 1, 0, 1, 1, 0, 2, 0,\n",
       "       3, 3, 1, 2, 1, 0, 2, 1, 1, 0, 3, 1, 3, 1, 1, 1, 1, 3, 1, 3, 2, 3,\n",
       "       3, 1, 2, 3, 3, 2, 0, 2, 2, 3, 0, 3, 0, 3, 2, 0, 2, 2, 2, 0, 2, 0,\n",
       "       1, 3, 2, 3, 1, 0, 2, 0, 0, 1, 0, 3, 3, 0, 1, 0, 0, 2, 1, 0, 3, 2,\n",
       "       1, 1, 0, 3, 1, 0, 3, 3, 0, 0, 0, 0, 1, 2, 0, 3, 0, 0, 3, 3, 3, 0,\n",
       "       3, 2, 0, 3, 1, 3, 0, 2, 3, 2, 0, 2, 0, 3, 0, 0, 2, 3, 3, 1, 1, 0,\n",
       "       2, 1, 1, 3, 1, 3, 0, 2, 2, 0, 0, 2, 0, 1, 3, 0, 1, 3, 2, 3, 1, 0,\n",
       "       1, 2, 2, 2, 2, 3, 3, 2, 0, 3, 1, 0, 3, 3, 3, 1, 1, 2, 0, 0, 3, 1,\n",
       "       2, 3, 0, 2, 0, 1, 1, 3, 3, 0, 1, 1, 1, 0, 2, 2, 1, 1, 0, 1, 1, 1,\n",
       "       2, 3, 2, 0, 1, 1, 2, 2, 2, 1, 1, 0, 2, 3])"
      ]
     },
     "execution_count": 6,
     "metadata": {},
     "output_type": "execute_result"
    }
   ],
   "source": [
    "y_preds"
   ]
  },
  {
   "cell_type": "code",
   "execution_count": 7,
   "id": "774f7ba5",
   "metadata": {},
   "outputs": [],
   "source": [
    "from sklearn.metrics import accuracy_score\n",
    "accurate_order = accuracy_score(y, y_preds)"
   ]
  },
  {
   "cell_type": "code",
   "execution_count": 8,
   "id": "ee7fbf2a",
   "metadata": {},
   "outputs": [
    {
     "data": {
      "text/plain": [
       "50.0"
      ]
     },
     "execution_count": 8,
     "metadata": {},
     "output_type": "execute_result"
    }
   ],
   "source": [
    "accurate_order*100"
   ]
  },
  {
   "cell_type": "code",
   "execution_count": 12,
   "id": "77fa4de3",
   "metadata": {},
   "outputs": [
    {
     "data": {
      "text/plain": [
       "array([[[ 2, 19, 13],\n",
       "        [ 3, 18, 13],\n",
       "        [ 7, 20, 13],\n",
       "        ...,\n",
       "        [ 1, 77, 64],\n",
       "        [ 0, 76, 64],\n",
       "        [ 0, 75, 63]],\n",
       "\n",
       "       [[ 1, 18, 12],\n",
       "        [ 3, 18, 13],\n",
       "        [ 7, 20, 13],\n",
       "        ...,\n",
       "        [ 0, 76, 64],\n",
       "        [ 1, 74, 65],\n",
       "        [ 1, 74, 65]],\n",
       "\n",
       "       [[ 2, 17, 12],\n",
       "        [ 6, 19, 12],\n",
       "        [ 7, 20, 13],\n",
       "        ...,\n",
       "        [ 1, 74, 65],\n",
       "        [ 1, 74, 67],\n",
       "        [ 1, 74, 67]],\n",
       "\n",
       "       ...,\n",
       "\n",
       "       [[ 0, 46, 40],\n",
       "        [ 1, 48, 40],\n",
       "        [ 1, 47, 37],\n",
       "        ...,\n",
       "        [ 5, 44, 26],\n",
       "        [ 6, 43, 26],\n",
       "        [ 7, 44, 27]],\n",
       "\n",
       "       [[ 0, 47, 41],\n",
       "        [ 1, 48, 40],\n",
       "        [ 1, 47, 37],\n",
       "        ...,\n",
       "        [ 6, 45, 27],\n",
       "        [ 7, 44, 27],\n",
       "        [ 7, 44, 27]],\n",
       "\n",
       "       [[ 0, 47, 41],\n",
       "        [ 1, 48, 40],\n",
       "        [ 0, 46, 36],\n",
       "        ...,\n",
       "        [ 7, 46, 28],\n",
       "        [ 8, 45, 28],\n",
       "        [ 9, 43, 27]]], dtype=uint8)"
      ]
     },
     "execution_count": 12,
     "metadata": {},
     "output_type": "execute_result"
    }
   ],
   "source": [
    "from sklearn.datasets import load_sample_image\n",
    "china = load_sample_image(\"flower.jpg\")\n",
    "china.shape\n",
    "china"
   ]
  },
  {
   "cell_type": "code",
   "execution_count": 10,
   "id": "b3de74c0",
   "metadata": {},
   "outputs": [],
   "source": [
    "data = china/255\n",
    "data = data.reshape(427*640, 3)"
   ]
  },
  {
   "cell_type": "code",
   "execution_count": 11,
   "id": "34fab315",
   "metadata": {},
   "outputs": [
    {
     "data": {
      "text/plain": [
       "array([[0.00784314, 0.0745098 , 0.05098039],\n",
       "       [0.01176471, 0.07058824, 0.05098039],\n",
       "       [0.02745098, 0.07843137, 0.05098039],\n",
       "       ...,\n",
       "       [0.02745098, 0.18039216, 0.10980392],\n",
       "       [0.03137255, 0.17647059, 0.10980392],\n",
       "       [0.03529412, 0.16862745, 0.10588235]])"
      ]
     },
     "execution_count": 11,
     "metadata": {},
     "output_type": "execute_result"
    }
   ],
   "source": [
    "data"
   ]
  },
  {
   "cell_type": "code",
   "execution_count": null,
   "id": "7cf56fbb",
   "metadata": {},
   "outputs": [],
   "source": []
  }
 ],
 "metadata": {
  "kernelspec": {
   "display_name": "Python 3 (ipykernel)",
   "language": "python",
   "name": "python3"
  },
  "language_info": {
   "codemirror_mode": {
    "name": "ipython",
    "version": 3
   },
   "file_extension": ".py",
   "mimetype": "text/x-python",
   "name": "python",
   "nbconvert_exporter": "python",
   "pygments_lexer": "ipython3",
   "version": "3.9.6"
  }
 },
 "nbformat": 4,
 "nbformat_minor": 5
}
